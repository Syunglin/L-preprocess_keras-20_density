{
 "cells": [
  {
   "cell_type": "code",
   "execution_count": null,
   "metadata": {},
   "outputs": [],
   "source": [
    "import numpy as np\n",
    "import os\n",
    "from glob import glob\n",
    "from PIL import Image, ImageDraw\n",
    "import matplotlib.pyplot as plt\n",
    "%matplotlib inline\n",
    "\n",
    "import tensorflow as tf\n",
    "from tensorflow import keras\n",
    "from tensorflow.keras.models import Sequential\n",
    "from tensorflow.keras.layers import Dense, Dropout, Flatten\n",
    "from tensorflow.keras.layers import Conv2D, MaxPooling2D\n",
    "from tensorflow.keras.optimizers import SGD\n",
    "from tensorflow.keras.preprocessing.image import ImageDataGenerator\n",
    "from tensorflow.keras.metrics import categorical_accuracy"
   ]
  },
  {
   "cell_type": "code",
   "execution_count": null,
   "metadata": {},
   "outputs": [],
   "source": [
    "! rm -rf /tmp/data/\n",
    "! mkdir -p /tmp/data/zipped/labeled/\n",
    "! mkdir -p /tmp/data/unzipped/labeled/train/ok\n",
    "! mkdir -p /tmp/data/unzipped/labeled/train/ng\n",
    "! mkdir -p /tmp/data/unzipped/labeled/test/ok\n",
    "! mkdir -p /tmp/data/unzipped/labeled/test/ng"
   ]
  },
  {
   "cell_type": "code",
   "execution_count": null,
   "metadata": {},
   "outputs": [],
   "source": [
    "! aws s3 cp s3://fstech.tw/wafer_defect/data/zipped/labeled/ /tmp/data/zipped/labeled/ --recursive"
   ]
  },
  {
   "cell_type": "code",
   "execution_count": null,
   "metadata": {},
   "outputs": [],
   "source": [
    "! unzip -q -o /tmp/data/zipped/labeled/NG-1.zip -d /tmp/data/unzipped/labeled/train/ng\n",
    "! unzip -q -o /tmp/data/zipped/labeled/NG-2.zip -d /tmp/data/unzipped/labeled/train/ng/\n",
    "! unzip -q -o /tmp/data/zipped/labeled/NG-3.zip -d /tmp/data/unzipped/labeled/train/ng/\n",
    "! unzip -q -o /tmp/data/zipped/labeled/NG-4.zip -d /tmp/data/unzipped/labeled/train/ng/\n",
    "! unzip -q -o /tmp/data/zipped/labeled/NG-5.zip -d /tmp/data/unzipped/labeled/test/ng/"
   ]
  },
  {
   "cell_type": "code",
   "execution_count": null,
   "metadata": {},
   "outputs": [],
   "source": [
    "! unzip -q -o /tmp/data/zipped/labeled/OK-1.zip -d /tmp/data/unzipped/labeled/train/ok\n",
    "! unzip -q -o /tmp/data/zipped/labeled/OK-2.zip -d /tmp/data/unzipped/labeled/train/ok/\n",
    "! unzip -q -o /tmp/data/zipped/labeled/OK-3.zip -d /tmp/data/unzipped/labeled/train/ok/\n",
    "! unzip -q -o /tmp/data/zipped/labeled/OK-4.zip -d /tmp/data/unzipped/labeled/train/ok/\n",
    "! unzip -q -o /tmp/data/zipped/labeled/OK-5.zip -d /tmp/data/unzipped/labeled/test/ok/"
   ]
  },
  {
   "cell_type": "code",
   "execution_count": null,
   "metadata": {},
   "outputs": [],
   "source": [
    "! mkdir -p /tmp/data/images/standard/labeled/train/ok\n",
    "! mkdir -p /tmp/data/images/standard/labeled/train/ng\n",
    "! mkdir -p /tmp/data/images/standard/labeled/test/ok\n",
    "! mkdir -p /tmp/data/images/standard/labeled/test/ng"
   ]
  },
  {
   "cell_type": "code",
   "execution_count": null,
   "metadata": {},
   "outputs": [],
   "source": [
    "def parse_defect_list(raw_text_path):\n",
    "    # Read file\n",
    "    f = open(raw_text_path)\n",
    "    lines = f.read()\n",
    "    \n",
    "    # Get only DefectList section of raw data\n",
    "    defect_list = [l.strip('\\n') for l in lines.split(';') if l.strip('\\n').startswith('DefectList')][0]\n",
    "\n",
    "    # Drop \"DefectList\" title, then split each row of DefectList into columns and convert to floats\n",
    "    columns = [np.array(l.strip(' ').split(' '), dtype=np.float64) for l in defect_list.split('\\n')[1:]]\n",
    "\n",
    "    # Convert to numpy array\n",
    "    parsed = np.array(columns)\n",
    "    \n",
    "    return parsed\n",
    "\n",
    "def save_defect_standard(defect_array, output_dir, filename='out.png'):\n",
    "    if len(defect_array)>0:\n",
    "        # limit to test types 1 and 6 per client expertise\n",
    "        vals = np.array([[arr[1], arr[2], arr[8]] for arr in defect_array if arr[10] in [1,6]])\n",
    "\n",
    "        if len(vals)>0:\n",
    "            x = vals.T[0]\n",
    "            y = vals.T[1]\n",
    "            #s = vals.T[2] # get original dsize values\n",
    "            \n",
    "            wafer_size = 300000\n",
    "            dot_size = 2600\n",
    "            \n",
    "            # Reduce output image size by a specific factor\n",
    "            f = 1000\n",
    "            \n",
    "            im = Image.new('RGB', (int(wafer_size/f+1), int(wafer_size/f+1)), 'white')\n",
    "            draw = ImageDraw.Draw(im)\n",
    "\n",
    "            draw.ellipse([0, 0, wafer_size/f, wafer_size/f], 'white', 'black')\n",
    "\n",
    "            for i in range(len(x)):\n",
    "                cur_x = x[i]/f\n",
    "                cur_y = y[i]/f\n",
    "                x0 = cur_x-(0.5*dot_size/f)\n",
    "                y0 = cur_y-(0.5*dot_size/f)\n",
    "                x1 = cur_x+(0.5*dot_size/f)\n",
    "                y1 = cur_y+(0.5*dot_size/f)\n",
    "                draw.ellipse([x0, y0, x1, y1], 'black', 'black')\n",
    "\n",
    "            im.save(os.path.join(output_dir, filename))\n",
    "        else:\n",
    "            pass\n",
    "    else:\n",
    "        pass"
   ]
  },
  {
   "cell_type": "code",
   "execution_count": null,
   "metadata": {},
   "outputs": [],
   "source": [
    "for f in glob('/tmp/data/unzipped/labeled/*/*/*.001'):\n",
    "    fname = f.split('/')[-1]\n",
    "    label = f.split('/')[-2]\n",
    "    train_or_test = f.split('/')[-3]\n",
    "    defects = parse_defect_list(f)\n",
    "    save_defect_standard(defects, \n",
    "                         '/tmp/data/images/standard/labeled/{}/{}'.format(train_or_test, label), \n",
    "                         '{}.png'.format(fname))"
   ]
  },
  {
   "cell_type": "code",
   "execution_count": null,
   "metadata": {},
   "outputs": [],
   "source": [
    "# Sanity check\n",
    "print(len(glob('/tmp/data/images/standard/labeled/train/ok/*.png')))\n",
    "print(len(glob('/tmp/data/images/standard/labeled/train/ng/*.png')))\n",
    "print(len(glob('/tmp/data/images/standard/labeled/test/ok/*.png')))\n",
    "print(len(glob('/tmp/data/images/standard/labeled/test/ng/*.png')))"
   ]
  },
  {
   "cell_type": "code",
   "execution_count": null,
   "metadata": {},
   "outputs": [],
   "source": [
    "model = Sequential()\n",
    "\n",
    "model.add(Conv2D(64, (3, 3), activation='relu', input_shape=(300, 300, 1)))\n",
    "model.add(Conv2D(64, (3, 3), activation='relu'))\n",
    "model.add(MaxPooling2D(pool_size=(2, 2)))\n",
    "model.add(Dropout(0.25))\n",
    "\n",
    "model.add(Conv2D(64, (3, 3), activation='relu'))\n",
    "model.add(Conv2D(64, (3, 3), activation='relu'))\n",
    "model.add(MaxPooling2D(pool_size=(2, 2)))\n",
    "model.add(Dropout(0.25))\n",
    "\n",
    "model.add(Flatten())\n",
    "model.add(Dense(256, activation='relu'))\n",
    "model.add(Dropout(0.50))\n",
    "\n",
    "# Output\n",
    "model.add(Dense(2, activation='softmax'))\n",
    "\n",
    "#multi_model = multi_gpu_model(model, gpus=gpu_count) # if multiple gpus on single system\n",
    "\n",
    "#adam = Adam()\n",
    "sgd = SGD(nesterov=True)\n",
    "model.compile(loss='categorical_crossentropy', optimizer=sgd, metrics=[categorical_accuracy])\n",
    "\n",
    "# Model summary\n",
    "model.summary()"
   ]
  },
  {
   "cell_type": "code",
   "execution_count": null,
   "metadata": {},
   "outputs": [],
   "source": [
    "batch_size = 64\n",
    "\n",
    "train_datagen = ImageDataGenerator(rescale=1./255)\n",
    "\n",
    "test_datagen = ImageDataGenerator(rescale=1./255)\n",
    "\n",
    "train_generator = train_datagen.flow_from_directory(\n",
    "    '/tmp/data/images/standard/labeled/train/',\n",
    "#    save_to_dir='/dev/shm/wafers/linearpolar/augmented/',\n",
    "    target_size=(300, 300),\n",
    "    batch_size=batch_size, \n",
    "    color_mode='grayscale'\n",
    ")\n",
    "\n",
    "test_generator = test_datagen.flow_from_directory(\n",
    "        '/tmp/data/images/standard/labeled/test/',\n",
    "        target_size=(300, 300),\n",
    "        batch_size=batch_size,\n",
    "        color_mode='grayscale')"
   ]
  },
  {
   "cell_type": "code",
   "execution_count": null,
   "metadata": {},
   "outputs": [],
   "source": [
    "history = model.fit_generator(\n",
    "        train_generator,\n",
    "        #steps_per_epoch=2000,\n",
    "        epochs=5,\n",
    "        validation_data=test_generator,\n",
    "        validation_steps=800)"
   ]
  }
 ],
 "metadata": {
  "kernelspec": {
   "display_name": "Python 3",
   "language": "python",
   "name": "python3"
  },
  "language_info": {
   "codemirror_mode": {
    "name": "ipython",
    "version": 3
   },
   "file_extension": ".py",
   "mimetype": "text/x-python",
   "name": "python",
   "nbconvert_exporter": "python",
   "pygments_lexer": "ipython3",
   "version": "3.5.4"
  }
 },
 "nbformat": 4,
 "nbformat_minor": 2
}
