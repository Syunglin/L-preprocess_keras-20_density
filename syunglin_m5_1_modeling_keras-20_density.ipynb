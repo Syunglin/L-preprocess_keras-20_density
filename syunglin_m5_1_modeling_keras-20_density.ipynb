{
 "cells": [
  {
   "cell_type": "code",
   "execution_count": 1,
   "metadata": {},
   "outputs": [],
   "source": [
    "import numpy as np\n",
    "import pandas as pd\n",
    "import os\n",
    "from glob import glob\n",
    "from PIL import Image, ImageDraw\n",
    "import matplotlib.pyplot as plt\n",
    "%matplotlib inline\n",
    "\n",
    "import tensorflow as tf\n",
    "from tensorflow import keras\n",
    "from tensorflow.keras.models import Sequential\n",
    "from tensorflow.keras.layers import Dense, Dropout, Flatten\n",
    "from tensorflow.keras.layers import Conv2D, MaxPooling2D\n",
    "from tensorflow.keras.optimizers import SGD, Adam\n",
    "from tensorflow.keras.preprocessing.image import ImageDataGenerator\n",
    "from tensorflow.keras.metrics import categorical_accuracy"
   ]
  },
  {
   "cell_type": "markdown",
   "metadata": {},
   "source": [
    "## Download data"
   ]
  },
  {
   "cell_type": "code",
   "execution_count": 2,
   "metadata": {},
   "outputs": [],
   "source": [
    "! rm -rf /tmp/data/\n",
    "! mkdir -p /tmp/data/zipped/labeled/\n",
    "! mkdir -p /tmp/data/unzipped/labeled/train/ok\n",
    "! mkdir -p /tmp/data/unzipped/labeled/train/ng\n",
    "! mkdir -p /tmp/data/unzipped/labeled/test/ok\n",
    "! mkdir -p /tmp/data/unzipped/labeled/test/ng"
   ]
  },
  {
   "cell_type": "code",
   "execution_count": 3,
   "metadata": {},
   "outputs": [
    {
     "name": "stdout",
     "output_type": "stream",
     "text": [
      "download: s3://fstech.tw/wafer_defect/data/zipped/labeled/NG-201808.zip to ../../../../../tmp/data/zipped/labeled/NG-201808.zip\n",
      "download: s3://fstech.tw/wafer_defect/data/zipped/labeled/OK-1.zip to ../../../../../tmp/data/zipped/labeled/OK-1.zip\n",
      "download: s3://fstech.tw/wafer_defect/data/zipped/labeled/OK-2.zip to ../../../../../tmp/data/zipped/labeled/OK-2.zip\n",
      "download: s3://fstech.tw/wafer_defect/data/zipped/labeled/OK-3.zip to ../../../../../tmp/data/zipped/labeled/OK-3.zip\n",
      "download: s3://fstech.tw/wafer_defect/data/zipped/labeled/NG-2.zip to ../../../../../tmp/data/zipped/labeled/NG-2.zip\n",
      "download: s3://fstech.tw/wafer_defect/data/zipped/labeled/NG-4.zip to ../../../../../tmp/data/zipped/labeled/NG-4.zip\n",
      "download: s3://fstech.tw/wafer_defect/data/zipped/labeled/NG-synthetic.zip to ../../../../../tmp/data/zipped/labeled/NG-synthetic.zip\n",
      "download: s3://fstech.tw/wafer_defect/data/zipped/labeled/NG-1.zip to ../../../../../tmp/data/zipped/labeled/NG-1.zip\n",
      "download: s3://fstech.tw/wafer_defect/data/zipped/labeled/NG-5.zip to ../../../../../tmp/data/zipped/labeled/NG-5.zip\n",
      "download: s3://fstech.tw/wafer_defect/data/zipped/labeled/OK-4.zip to ../../../../../tmp/data/zipped/labeled/OK-4.zip\n",
      "download: s3://fstech.tw/wafer_defect/data/zipped/labeled/OK-5.zip to ../../../../../tmp/data/zipped/labeled/OK-5.zip\n",
      "download: s3://fstech.tw/wafer_defect/data/zipped/labeled/NG-3.zip to ../../../../../tmp/data/zipped/labeled/NG-3.zip\n",
      "download: s3://fstech.tw/wafer_defect/data/zipped/labeled/OK-201808.zip to ../../../../../tmp/data/zipped/labeled/OK-201808.zip\n"
     ]
    }
   ],
   "source": [
    "! aws s3 cp s3://fstech.tw/wafer_defect/data/zipped/labeled/ /tmp/data/zipped/labeled/ --recursive"
   ]
  },
  {
   "cell_type": "code",
   "execution_count": 4,
   "metadata": {},
   "outputs": [],
   "source": [
    "! unzip -q -o /tmp/data/zipped/labeled/NG-1.zip -d /tmp/data/unzipped/labeled/train/ng\n",
    "! unzip -q -o /tmp/data/zipped/labeled/NG-2.zip -d /tmp/data/unzipped/labeled/train/ng/\n",
    "! unzip -q -o /tmp/data/zipped/labeled/NG-3.zip -d /tmp/data/unzipped/labeled/train/ng/\n",
    "! unzip -q -o /tmp/data/zipped/labeled/NG-4.zip -d /tmp/data/unzipped/labeled/train/ng/\n",
    "! unzip -q -o /tmp/data/zipped/labeled/NG-5.zip -d /tmp/data/unzipped/labeled/test/ng/"
   ]
  },
  {
   "cell_type": "code",
   "execution_count": 5,
   "metadata": {},
   "outputs": [],
   "source": [
    "! unzip -q -o /tmp/data/zipped/labeled/OK-1.zip -d /tmp/data/unzipped/labeled/train/ok\n",
    "! unzip -q -o /tmp/data/zipped/labeled/OK-2.zip -d /tmp/data/unzipped/labeled/train/ok/\n",
    "! unzip -q -o /tmp/data/zipped/labeled/OK-3.zip -d /tmp/data/unzipped/labeled/train/ok/\n",
    "! unzip -q -o /tmp/data/zipped/labeled/OK-4.zip -d /tmp/data/unzipped/labeled/train/ok/\n",
    "! unzip -q -o /tmp/data/zipped/labeled/OK-5.zip -d /tmp/data/unzipped/labeled/test/ok/"
   ]
  },
  {
   "cell_type": "markdown",
   "metadata": {},
   "source": [
    "## Preprocess data"
   ]
  },
  {
   "cell_type": "code",
   "execution_count": 8,
   "metadata": {},
   "outputs": [],
   "source": [
    "! mkdir -p /tmp/data/images/standard/labeled/train/ok\n",
    "! mkdir -p /tmp/data/images/standard/labeled/train/ng\n",
    "! mkdir -p /tmp/data/images/standard/labeled/test/ok\n",
    "! mkdir -p /tmp/data/images/standard/labeled/test/ng\n",
    "! mkdir -p /tmp/data/images/standard/labeled/augmented\n",
    "! mkdir -p /tmp/data/images/linearpolar/labeled/train/ok\n",
    "! mkdir -p /tmp/data/images/linearpolar/labeled/train/ng\n",
    "! mkdir -p /tmp/data/images/linearpolar/labeled/test/ok\n",
    "! mkdir -p /tmp/data/images/linearpolar/labeled/test/ng\n",
    "! mkdir -p /tmp/data/images/linearpolar/labeled/augmented"
   ]
  },
  {
   "cell_type": "code",
   "execution_count": 7,
   "metadata": {},
   "outputs": [],
   "source": [
    "def parse_defect_list(raw_text_path):\n",
    "    # Read file\n",
    "    f = open(raw_text_path)\n",
    "    lines = f.read()\n",
    "    \n",
    "    # Get only DefectList section of raw data\n",
    "    defect_list = [l.strip('\\n') for l in lines.split(';') if l.strip('\\n').startswith('DefectList')][0]\n",
    "\n",
    "    # Drop \"DefectList\" title, then split each row of DefectList into columns and convert to floats\n",
    "    columns = [np.array(l.strip(' ').split(' '), dtype=np.float64) for l in defect_list.split('\\n')[1:]]\n",
    "\n",
    "    # Convert to numpy array\n",
    "    parsed = np.array(columns)\n",
    "    \n",
    "    return parsed\n",
    "\n",
    "def save_defect_standard(defect_array, output_dir, filename='out.png'):\n",
    "    if len(defect_array)>0:\n",
    "        # limit to test types 1 and 6 per client expertise\n",
    "        vals = np.array([[arr[1], arr[2], arr[8]] for arr in defect_array if arr[10] in [1,6]])\n",
    "\n",
    "        if len(vals)>0:\n",
    "            x = vals.T[0]\n",
    "            y = vals.T[1]\n",
    "            #s = vals.T[2] # get original dsize values\n",
    "            \n",
    "            wafer_size = 300000\n",
    "            dot_size = 2600\n",
    "            \n",
    "            # Reduce output image size by a specific factor\n",
    "            f = 1000\n",
    "            \n",
    "            im = Image.new('RGB', (int(wafer_size/f+1), int(wafer_size/f+1)), 'white')\n",
    "            draw = ImageDraw.Draw(im)\n",
    "\n",
    "            draw.ellipse([0, 0, wafer_size/f, wafer_size/f], 'white', 'black')\n",
    "\n",
    "            for i in range(len(x)):\n",
    "                cur_x = x[i]/f\n",
    "                cur_y = y[i]/f\n",
    "                x0 = cur_x-(0.5*dot_size/f)\n",
    "                y0 = cur_y-(0.5*dot_size/f)\n",
    "                x1 = cur_x+(0.5*dot_size/f)\n",
    "                y1 = cur_y+(0.5*dot_size/f)\n",
    "                draw.ellipse([x0, y0, x1, y1], 'black', 'black')\n",
    "\n",
    "            im.save(os.path.join(output_dir, filename))\n",
    "        else:\n",
    "            pass\n",
    "    else:\n",
    "        pass\n",
    "    \n",
    "def save_defect_linearpolar(defect_array, output_dir, filename='out.png', opacity=0.2):\n",
    "    if len(defect_array)>0:\n",
    "        # limit to test types 1 and 6 per client expertise\n",
    "        defects = np.array([[arr[1], arr[2]] for arr in defect_array if arr[10] in [1,6]])\n",
    "\n",
    "        if len(defects)>0:\n",
    "            x = defects.T[0]\n",
    "            y = defects.T[1]\n",
    "            #s = vals.T[2] # get original dsize values\n",
    "            \n",
    "            center = (150000,150000)\n",
    "\n",
    "            # Calculate distance of point to center\n",
    "            rho = np.sqrt((x-center[0])**2 + (y-center[1])**2)\n",
    "            # Calculate angle to point\n",
    "            theta = np.arctan2((y-center[1]), (x-center[0]))*(180/np.pi)\n",
    "            # Convert from (-180, 180] to [0, 360)\n",
    "            theta = np.array([t if t>=0 else (t+360) for t in theta])\n",
    "\n",
    "            # Start with base image with black background\n",
    "            im1 = Image.new('RGBA', (361, 361), (0,0,0,255))\n",
    "\n",
    "            # For each dot, add a little alpha to the original image\n",
    "            for i in range(len(rho)):\n",
    "                im2 = Image.new('RGBA', (361, 361), (0,0,0,0))\n",
    "                draw = ImageDraw.Draw(im2)\n",
    "                cur_x = theta[i]\n",
    "                cur_y = rho[i]*360/center[0]\n",
    "                x0 = cur_x-2\n",
    "                y0 = 360-cur_y-2\n",
    "                x1 = cur_x+2\n",
    "                y1 = 360-cur_y+2\n",
    "                draw.ellipse([x0, y0, x1, y1], (255,255,255,int(255*opacity)), None)\n",
    "                im1 = Image.alpha_composite(im1, im2)\n",
    "\n",
    "            # Convert this to 'L' mode from RGBA to save space\n",
    "            im1 = im1.convert('L')\n",
    "\n",
    "            im1.save(os.path.join(output_dir, filename))\n",
    "        else:\n",
    "            pass\n",
    "    else:\n",
    "        pass"
   ]
  },
  {
   "cell_type": "code",
   "execution_count": 9,
   "metadata": {},
   "outputs": [],
   "source": [
    "for f in glob('/tmp/data/unzipped/labeled/*/*/*.001'):\n",
    "    fname = f.split('/')[-1]\n",
    "    label = f.split('/')[-2]\n",
    "    train_or_test = f.split('/')[-3]\n",
    "    defects = parse_defect_list(f)\n",
    "    save_defect_standard(defects, \n",
    "                         '/tmp/data/images/standard/labeled/{}/{}'.format(train_or_test, label), \n",
    "                         '{}.png'.format(fname))\n",
    "    \n",
    "    save_defect_linearpolar(defects, \n",
    "                           '/tmp/data/images/linearpolar/labeled/{}/{}'.format(train_or_test, label), \n",
    "                           '{}.png'.format(fname))"
   ]
  },
  {
   "cell_type": "code",
   "execution_count": 10,
   "metadata": {},
   "outputs": [
    {
     "name": "stdout",
     "output_type": "stream",
     "text": [
      "3940\n",
      "4000\n",
      "1000\n",
      "989\n"
     ]
    }
   ],
   "source": [
    "# Sanity check\n",
    "print(len(glob('/tmp/data/images/linearpolar/labeled/train/ok/*.png')))\n",
    "print(len(glob('/tmp/data/images/linearpolar/labeled/train/ng/*.png')))\n",
    "print(len(glob('/tmp/data/images/linearpolar/labeled/test/ok/*.png')))\n",
    "print(len(glob('/tmp/data/images/linearpolar/labeled/test/ng/*.png')))"
   ]
  },
  {
   "cell_type": "markdown",
   "metadata": {},
   "source": [
    "# Modeling"
   ]
  },
  {
   "cell_type": "markdown",
   "metadata": {},
   "source": [
    "## Develop model"
   ]
  },
  {
   "cell_type": "code",
   "execution_count": 1,
   "metadata": {},
   "outputs": [
    {
     "ename": "NameError",
     "evalue": "name 'Sequential' is not defined",
     "output_type": "error",
     "traceback": [
      "\u001b[0;31m---------------------------------------------------------------------------\u001b[0m",
      "\u001b[0;31mNameError\u001b[0m                                 Traceback (most recent call last)",
      "\u001b[0;32m<ipython-input-1-0765cac23c9b>\u001b[0m in \u001b[0;36m<module>\u001b[0;34m()\u001b[0m\n\u001b[0;32m----> 1\u001b[0;31m \u001b[0mmodel\u001b[0m \u001b[0;34m=\u001b[0m \u001b[0mSequential\u001b[0m\u001b[0;34m(\u001b[0m\u001b[0;34m)\u001b[0m\u001b[0;34m\u001b[0m\u001b[0m\n\u001b[0m\u001b[1;32m      2\u001b[0m \u001b[0;34m\u001b[0m\u001b[0m\n\u001b[1;32m      3\u001b[0m \u001b[0mmodel\u001b[0m\u001b[0;34m.\u001b[0m\u001b[0madd\u001b[0m\u001b[0;34m(\u001b[0m\u001b[0mConv2D\u001b[0m\u001b[0;34m(\u001b[0m\u001b[0;36m64\u001b[0m\u001b[0;34m,\u001b[0m \u001b[0;34m(\u001b[0m\u001b[0;36m3\u001b[0m\u001b[0;34m,\u001b[0m \u001b[0;36m3\u001b[0m\u001b[0;34m)\u001b[0m\u001b[0;34m,\u001b[0m \u001b[0mactivation\u001b[0m\u001b[0;34m=\u001b[0m\u001b[0;34m'relu'\u001b[0m\u001b[0;34m,\u001b[0m \u001b[0minput_shape\u001b[0m\u001b[0;34m=\u001b[0m\u001b[0;34m(\u001b[0m\u001b[0;36m300\u001b[0m\u001b[0;34m,\u001b[0m \u001b[0;36m300\u001b[0m\u001b[0;34m,\u001b[0m \u001b[0;36m1\u001b[0m\u001b[0;34m)\u001b[0m\u001b[0;34m)\u001b[0m\u001b[0;34m)\u001b[0m\u001b[0;34m\u001b[0m\u001b[0m\n\u001b[1;32m      4\u001b[0m \u001b[0mmodel\u001b[0m\u001b[0;34m.\u001b[0m\u001b[0madd\u001b[0m\u001b[0;34m(\u001b[0m\u001b[0mConv2D\u001b[0m\u001b[0;34m(\u001b[0m\u001b[0;36m64\u001b[0m\u001b[0;34m,\u001b[0m \u001b[0;34m(\u001b[0m\u001b[0;36m3\u001b[0m\u001b[0;34m,\u001b[0m \u001b[0;36m3\u001b[0m\u001b[0;34m)\u001b[0m\u001b[0;34m,\u001b[0m \u001b[0mactivation\u001b[0m\u001b[0;34m=\u001b[0m\u001b[0;34m'relu'\u001b[0m\u001b[0;34m)\u001b[0m\u001b[0;34m)\u001b[0m\u001b[0;34m\u001b[0m\u001b[0m\n\u001b[1;32m      5\u001b[0m \u001b[0mmodel\u001b[0m\u001b[0;34m.\u001b[0m\u001b[0madd\u001b[0m\u001b[0;34m(\u001b[0m\u001b[0mMaxPooling2D\u001b[0m\u001b[0;34m(\u001b[0m\u001b[0mpool_size\u001b[0m\u001b[0;34m=\u001b[0m\u001b[0;34m(\u001b[0m\u001b[0;36m2\u001b[0m\u001b[0;34m,\u001b[0m \u001b[0;36m2\u001b[0m\u001b[0;34m)\u001b[0m\u001b[0;34m)\u001b[0m\u001b[0;34m)\u001b[0m\u001b[0;34m\u001b[0m\u001b[0m\n",
      "\u001b[0;31mNameError\u001b[0m: name 'Sequential' is not defined"
     ]
    }
   ],
   "source": [
    "model = Sequential()\n",
    "\n",
    "model.add(Conv2D(64, (3, 3), activation='relu', input_shape=(300, 300, 1)))\n",
    "model.add(Conv2D(64, (3, 3), activation='relu'))\n",
    "model.add(MaxPooling2D(pool_size=(2, 2)))\n",
    "model.add(Dropout(0.25))\n",
    "\n",
    "model.add(Conv2D(64, (3, 3), activation='relu'))\n",
    "model.add(Conv2D(64, (3, 3), activation='relu'))\n",
    "model.add(MaxPooling2D(pool_size=(2, 2)))\n",
    "model.add(Dropout(0.25))\n",
    "\n",
    "model.add(Flatten())\n",
    "model.add(Dense(256, activation='relu'))\n",
    "model.add(Dropout(0.50))\n",
    "\n",
    "# Output\n",
    "model.add(Dense(2, activation='softmax'))\n",
    "\n",
    "#multi_model = multi_gpu_model(model, gpus=gpu_count) # if multiple gpus on single system\n",
    "\n",
    "#adam = Adam()\n",
    "sgd = SGD(nesterov=True)\n",
    "model.compile(loss='categorical_crossentropy', optimizer=sgd, metrics=[categorical_accuracy])\n",
    "\n",
    "# Model summary\n",
    "model.summary()"
   ]
  },
  {
   "cell_type": "code",
   "execution_count": 5,
   "metadata": {},
   "outputs": [
    {
     "name": "stdout",
     "output_type": "stream",
     "text": [
      "Found 7940 images belonging to 2 classes.\n",
      "Found 1989 images belonging to 2 classes.\n"
     ]
    }
   ],
   "source": [
    "batch_size = 64\n",
    "\n",
    "train_datagen = ImageDataGenerator(    \n",
    "#    shear_range=0.2,\n",
    "    fill_mode='wrap',\n",
    "    height_shift_range=0.5,\n",
    "    width_shift_range=0.5,\n",
    "    vertical_flip=True, \n",
    "    horizontal_flip=True,\n",
    "#    rotation_range=360,\n",
    "    rescale=1./255)\n",
    "\n",
    "test_datagen = ImageDataGenerator(rescale=1./255)\n",
    "\n",
    "train_generator = train_datagen.flow_from_directory(\n",
    "    '/tmp/data/images/linearpolar/labeled/train/',\n",
    "    save_to_dir='/tmp/data/images/linearpolar/labeled/augmented/',\n",
    "    target_size=(300, 300),\n",
    "    batch_size=batch_size, \n",
    "    color_mode='grayscale'\n",
    ")\n",
    "\n",
    "test_generator = test_datagen.flow_from_directory(\n",
    "        '/tmp/data/images/linearpolar/labeled/test/',\n",
    "        target_size=(300, 300),\n",
    "        batch_size=batch_size,\n",
    "        color_mode='grayscale')"
   ]
  },
  {
   "cell_type": "code",
   "execution_count": 6,
   "metadata": {},
   "outputs": [
    {
     "name": "stdout",
     "output_type": "stream",
     "text": [
      "Epoch 1/10\n",
      "  8/125 [>.............................] - ETA: 2:22 - loss: 0.7838 - categorical_accuracy: 0.5020"
     ]
    },
    {
     "ename": "KeyboardInterrupt",
     "evalue": "",
     "output_type": "error",
     "traceback": [
      "\u001b[0;31m---------------------------------------------------------------------------\u001b[0m",
      "\u001b[0;31mKeyboardInterrupt\u001b[0m                         Traceback (most recent call last)",
      "\u001b[0;32m<ipython-input-6-c2b2dff587b3>\u001b[0m in \u001b[0;36m<module>\u001b[0;34m()\u001b[0m\n\u001b[1;32m      3\u001b[0m     \u001b[0mepochs\u001b[0m\u001b[0;34m=\u001b[0m\u001b[0;36m10\u001b[0m\u001b[0;34m,\u001b[0m\u001b[0;34m\u001b[0m\u001b[0m\n\u001b[1;32m      4\u001b[0m     \u001b[0mvalidation_data\u001b[0m\u001b[0;34m=\u001b[0m\u001b[0mtest_generator\u001b[0m\u001b[0;34m,\u001b[0m\u001b[0;34m\u001b[0m\u001b[0m\n\u001b[0;32m----> 5\u001b[0;31m     validation_steps=100)\n\u001b[0m",
      "\u001b[0;32m~/anaconda3/envs/tensorflow_p36/lib/python3.6/site-packages/tensorflow/python/keras/engine/training.py\u001b[0m in \u001b[0;36mfit_generator\u001b[0;34m(self, generator, steps_per_epoch, epochs, verbose, callbacks, validation_data, validation_steps, class_weight, max_queue_size, workers, use_multiprocessing, shuffle, initial_epoch)\u001b[0m\n\u001b[1;32m   1777\u001b[0m         \u001b[0muse_multiprocessing\u001b[0m\u001b[0;34m=\u001b[0m\u001b[0muse_multiprocessing\u001b[0m\u001b[0;34m,\u001b[0m\u001b[0;34m\u001b[0m\u001b[0m\n\u001b[1;32m   1778\u001b[0m         \u001b[0mshuffle\u001b[0m\u001b[0;34m=\u001b[0m\u001b[0mshuffle\u001b[0m\u001b[0;34m,\u001b[0m\u001b[0;34m\u001b[0m\u001b[0m\n\u001b[0;32m-> 1779\u001b[0;31m         initial_epoch=initial_epoch)\n\u001b[0m\u001b[1;32m   1780\u001b[0m \u001b[0;34m\u001b[0m\u001b[0m\n\u001b[1;32m   1781\u001b[0m   def evaluate_generator(self,\n",
      "\u001b[0;32m~/anaconda3/envs/tensorflow_p36/lib/python3.6/site-packages/tensorflow/python/keras/engine/training_generator.py\u001b[0m in \u001b[0;36mfit_generator\u001b[0;34m(model, generator, steps_per_epoch, epochs, verbose, callbacks, validation_data, validation_steps, class_weight, max_queue_size, workers, use_multiprocessing, shuffle, initial_epoch)\u001b[0m\n\u001b[1;32m    202\u001b[0m \u001b[0;34m\u001b[0m\u001b[0m\n\u001b[1;32m    203\u001b[0m         outs = model.train_on_batch(\n\u001b[0;32m--> 204\u001b[0;31m             x, y, sample_weight=sample_weight, class_weight=class_weight)\n\u001b[0m\u001b[1;32m    205\u001b[0m \u001b[0;34m\u001b[0m\u001b[0m\n\u001b[1;32m    206\u001b[0m         \u001b[0;32mif\u001b[0m \u001b[0;32mnot\u001b[0m \u001b[0misinstance\u001b[0m\u001b[0;34m(\u001b[0m\u001b[0mouts\u001b[0m\u001b[0;34m,\u001b[0m \u001b[0mlist\u001b[0m\u001b[0;34m)\u001b[0m\u001b[0;34m:\u001b[0m\u001b[0;34m\u001b[0m\u001b[0m\n",
      "\u001b[0;32m~/anaconda3/envs/tensorflow_p36/lib/python3.6/site-packages/tensorflow/python/keras/engine/training.py\u001b[0m in \u001b[0;36mtrain_on_batch\u001b[0;34m(self, x, y, sample_weight, class_weight)\u001b[0m\n\u001b[1;32m   1550\u001b[0m \u001b[0;34m\u001b[0m\u001b[0m\n\u001b[1;32m   1551\u001b[0m       \u001b[0mself\u001b[0m\u001b[0;34m.\u001b[0m\u001b[0m_make_train_function\u001b[0m\u001b[0;34m(\u001b[0m\u001b[0;34m)\u001b[0m\u001b[0;34m\u001b[0m\u001b[0m\n\u001b[0;32m-> 1552\u001b[0;31m       \u001b[0moutputs\u001b[0m \u001b[0;34m=\u001b[0m \u001b[0mself\u001b[0m\u001b[0;34m.\u001b[0m\u001b[0mtrain_function\u001b[0m\u001b[0;34m(\u001b[0m\u001b[0mins\u001b[0m\u001b[0;34m)\u001b[0m\u001b[0;34m\u001b[0m\u001b[0m\n\u001b[0m\u001b[1;32m   1553\u001b[0m \u001b[0;34m\u001b[0m\u001b[0m\n\u001b[1;32m   1554\u001b[0m     \u001b[0;32mif\u001b[0m \u001b[0mlen\u001b[0m\u001b[0;34m(\u001b[0m\u001b[0moutputs\u001b[0m\u001b[0;34m)\u001b[0m \u001b[0;34m==\u001b[0m \u001b[0;36m1\u001b[0m\u001b[0;34m:\u001b[0m\u001b[0;34m\u001b[0m\u001b[0m\n",
      "\u001b[0;32m~/anaconda3/envs/tensorflow_p36/lib/python3.6/site-packages/tensorflow/python/keras/backend.py\u001b[0m in \u001b[0;36m__call__\u001b[0;34m(self, inputs)\u001b[0m\n\u001b[1;32m   2912\u001b[0m       \u001b[0mself\u001b[0m\u001b[0;34m.\u001b[0m\u001b[0m_make_callable\u001b[0m\u001b[0;34m(\u001b[0m\u001b[0mfeed_arrays\u001b[0m\u001b[0;34m,\u001b[0m \u001b[0mfeed_symbols\u001b[0m\u001b[0;34m,\u001b[0m \u001b[0msymbol_vals\u001b[0m\u001b[0;34m,\u001b[0m \u001b[0msession\u001b[0m\u001b[0;34m)\u001b[0m\u001b[0;34m\u001b[0m\u001b[0m\n\u001b[1;32m   2913\u001b[0m \u001b[0;34m\u001b[0m\u001b[0m\n\u001b[0;32m-> 2914\u001b[0;31m     \u001b[0mfetched\u001b[0m \u001b[0;34m=\u001b[0m \u001b[0mself\u001b[0m\u001b[0;34m.\u001b[0m\u001b[0m_callable_fn\u001b[0m\u001b[0;34m(\u001b[0m\u001b[0;34m*\u001b[0m\u001b[0marray_vals\u001b[0m\u001b[0;34m)\u001b[0m\u001b[0;34m\u001b[0m\u001b[0m\n\u001b[0m\u001b[1;32m   2915\u001b[0m     \u001b[0mself\u001b[0m\u001b[0;34m.\u001b[0m\u001b[0m_call_fetch_callbacks\u001b[0m\u001b[0;34m(\u001b[0m\u001b[0mfetched\u001b[0m\u001b[0;34m[\u001b[0m\u001b[0;34m-\u001b[0m\u001b[0mlen\u001b[0m\u001b[0;34m(\u001b[0m\u001b[0mself\u001b[0m\u001b[0;34m.\u001b[0m\u001b[0m_fetches\u001b[0m\u001b[0;34m)\u001b[0m\u001b[0;34m:\u001b[0m\u001b[0;34m]\u001b[0m\u001b[0;34m)\u001b[0m\u001b[0;34m\u001b[0m\u001b[0m\n\u001b[1;32m   2916\u001b[0m     \u001b[0;32mreturn\u001b[0m \u001b[0mfetched\u001b[0m\u001b[0;34m[\u001b[0m\u001b[0;34m:\u001b[0m\u001b[0mlen\u001b[0m\u001b[0;34m(\u001b[0m\u001b[0mself\u001b[0m\u001b[0;34m.\u001b[0m\u001b[0moutputs\u001b[0m\u001b[0;34m)\u001b[0m\u001b[0;34m]\u001b[0m\u001b[0;34m\u001b[0m\u001b[0m\n",
      "\u001b[0;32m~/anaconda3/envs/tensorflow_p36/lib/python3.6/site-packages/tensorflow/python/client/session.py\u001b[0m in \u001b[0;36m__call__\u001b[0;34m(self, *args, **kwargs)\u001b[0m\n\u001b[1;32m   1380\u001b[0m           ret = tf_session.TF_SessionRunCallable(\n\u001b[1;32m   1381\u001b[0m               \u001b[0mself\u001b[0m\u001b[0;34m.\u001b[0m\u001b[0m_session\u001b[0m\u001b[0;34m.\u001b[0m\u001b[0m_session\u001b[0m\u001b[0;34m,\u001b[0m \u001b[0mself\u001b[0m\u001b[0;34m.\u001b[0m\u001b[0m_handle\u001b[0m\u001b[0;34m,\u001b[0m \u001b[0margs\u001b[0m\u001b[0;34m,\u001b[0m \u001b[0mstatus\u001b[0m\u001b[0;34m,\u001b[0m\u001b[0;34m\u001b[0m\u001b[0m\n\u001b[0;32m-> 1382\u001b[0;31m               run_metadata_ptr)\n\u001b[0m\u001b[1;32m   1383\u001b[0m         \u001b[0;32mif\u001b[0m \u001b[0mrun_metadata\u001b[0m\u001b[0;34m:\u001b[0m\u001b[0;34m\u001b[0m\u001b[0m\n\u001b[1;32m   1384\u001b[0m           \u001b[0mproto_data\u001b[0m \u001b[0;34m=\u001b[0m \u001b[0mtf_session\u001b[0m\u001b[0;34m.\u001b[0m\u001b[0mTF_GetBuffer\u001b[0m\u001b[0;34m(\u001b[0m\u001b[0mrun_metadata_ptr\u001b[0m\u001b[0;34m)\u001b[0m\u001b[0;34m\u001b[0m\u001b[0m\n",
      "\u001b[0;31mKeyboardInterrupt\u001b[0m: "
     ]
    }
   ],
   "source": [
    "history = model.fit_generator(\n",
    "    train_generator,\n",
    "    epochs=100,\n",
    "    validation_data=test_generator,\n",
    "    validation_steps=100)"
   ]
  },
  {
   "cell_type": "code",
   "execution_count": 13,
   "metadata": {},
   "outputs": [
    {
     "data": {
      "text/plain": [
       "<matplotlib.axes._subplots.AxesSubplot at 0x7f0aa74afd68>"
      ]
     },
     "execution_count": 13,
     "metadata": {},
     "output_type": "execute_result"
    },
    {
     "data": {
      "image/png": "[encoded data removed]",
      "text/plain": [
       "<Figure size 432x288 with 1 Axes>"
      ]
     },
     "metadata": {},
     "output_type": "display_data"
    }
   ],
   "source": [
    "pd.DataFrame(history.history).plot(ylim=[0,1])"
   ]
  },
  {
   "cell_type": "code",
   "execution_count": null,
   "metadata": {},
   "outputs": [],
   "source": []
  }
 ],
 "metadata": {
  "kernelspec": {
   "display_name": "conda_tensorflow_p36",
   "language": "python",
   "name": "conda_tensorflow_p36"
  },
  "language_info": {
   "codemirror_mode": {
    "name": "ipython",
    "version": 3
   },
   "file_extension": ".py",
   "mimetype": "text/x-python",
   "name": "python",
   "nbconvert_exporter": "python",
   "pygments_lexer": "ipython3",
   "version": "3.6.5"
  }
 },
 "nbformat": 4,
 "nbformat_minor": 2
}
